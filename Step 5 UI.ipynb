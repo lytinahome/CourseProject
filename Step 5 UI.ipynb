{
 "cells": [
  {
   "cell_type": "code",
   "execution_count": 1,
   "id": "2ad27561",
   "metadata": {},
   "outputs": [],
   "source": [
    "import pandas as pd\n",
    "import numpy as np"
   ]
  },
  {
   "cell_type": "code",
   "execution_count": 2,
   "id": "dc33cbc4",
   "metadata": {},
   "outputs": [],
   "source": [
    "score_table = pd.read_csv(\"./score_table_mean.csv\", low_memory=False)\n",
    "business = pd.read_csv(\"./business.csv\")"
   ]
  },
  {
   "cell_type": "code",
   "execution_count": 4,
   "id": "05f8f1f5",
   "metadata": {},
   "outputs": [
    {
     "data": {
      "text/html": [
       "<div>\n",
       "<style scoped>\n",
       "    .dataframe tbody tr th:only-of-type {\n",
       "        vertical-align: middle;\n",
       "    }\n",
       "\n",
       "    .dataframe tbody tr th {\n",
       "        vertical-align: top;\n",
       "    }\n",
       "\n",
       "    .dataframe thead th {\n",
       "        text-align: right;\n",
       "    }\n",
       "</style>\n",
       "<table border=\"1\" class=\"dataframe\">\n",
       "  <thead>\n",
       "    <tr style=\"text-align: right;\">\n",
       "      <th></th>\n",
       "      <th>Unnamed: 0</th>\n",
       "      <th>business_id</th>\n",
       "      <th>name</th>\n",
       "      <th>address</th>\n",
       "      <th>city</th>\n",
       "      <th>state</th>\n",
       "      <th>postal_code</th>\n",
       "      <th>latitude</th>\n",
       "      <th>longitude</th>\n",
       "      <th>stars</th>\n",
       "      <th>review_count</th>\n",
       "      <th>is_open</th>\n",
       "      <th>attributes</th>\n",
       "      <th>categories</th>\n",
       "      <th>hours</th>\n",
       "    </tr>\n",
       "  </thead>\n",
       "  <tbody>\n",
       "    <tr>\n",
       "      <th>0</th>\n",
       "      <td>0</td>\n",
       "      <td>Pns2l4eNsfO8kk83dixA6A</td>\n",
       "      <td>Abby Rappoport, LAC, CMQ</td>\n",
       "      <td>1616 Chapala St, Ste 2</td>\n",
       "      <td>Santa Barbara</td>\n",
       "      <td>CA</td>\n",
       "      <td>93101</td>\n",
       "      <td>34.426679</td>\n",
       "      <td>-119.711197</td>\n",
       "      <td>5.0</td>\n",
       "      <td>7</td>\n",
       "      <td>0</td>\n",
       "      <td>{'ByAppointmentOnly': 'True'}</td>\n",
       "      <td>Doctors, Traditional Chinese Medicine, Naturop...</td>\n",
       "      <td>NaN</td>\n",
       "    </tr>\n",
       "    <tr>\n",
       "      <th>1</th>\n",
       "      <td>1</td>\n",
       "      <td>mpf3x-BjTdTEA3yCZrAYPw</td>\n",
       "      <td>The UPS Store</td>\n",
       "      <td>87 Grasso Plaza Shopping Center</td>\n",
       "      <td>Affton</td>\n",
       "      <td>MO</td>\n",
       "      <td>63123</td>\n",
       "      <td>38.551126</td>\n",
       "      <td>-90.335695</td>\n",
       "      <td>3.0</td>\n",
       "      <td>15</td>\n",
       "      <td>1</td>\n",
       "      <td>{'BusinessAcceptsCreditCards': 'True'}</td>\n",
       "      <td>Shipping Centers, Local Services, Notaries, Ma...</td>\n",
       "      <td>{'Monday': '0:0-0:0', 'Tuesday': '8:0-18:30', ...</td>\n",
       "    </tr>\n",
       "    <tr>\n",
       "      <th>2</th>\n",
       "      <td>2</td>\n",
       "      <td>tUFrWirKiKi_TAnsVWINQQ</td>\n",
       "      <td>Target</td>\n",
       "      <td>5255 E Broadway Blvd</td>\n",
       "      <td>Tucson</td>\n",
       "      <td>AZ</td>\n",
       "      <td>85711</td>\n",
       "      <td>32.223236</td>\n",
       "      <td>-110.880452</td>\n",
       "      <td>3.5</td>\n",
       "      <td>22</td>\n",
       "      <td>0</td>\n",
       "      <td>{'BikeParking': 'True', 'BusinessAcceptsCredit...</td>\n",
       "      <td>Department Stores, Shopping, Fashion, Home &amp; G...</td>\n",
       "      <td>{'Monday': '8:0-22:0', 'Tuesday': '8:0-22:0', ...</td>\n",
       "    </tr>\n",
       "    <tr>\n",
       "      <th>3</th>\n",
       "      <td>3</td>\n",
       "      <td>MTSW4McQd7CbVtyjqoe9mw</td>\n",
       "      <td>St Honore Pastries</td>\n",
       "      <td>935 Race St</td>\n",
       "      <td>Philadelphia</td>\n",
       "      <td>PA</td>\n",
       "      <td>19107</td>\n",
       "      <td>39.955505</td>\n",
       "      <td>-75.155564</td>\n",
       "      <td>4.0</td>\n",
       "      <td>80</td>\n",
       "      <td>1</td>\n",
       "      <td>{'RestaurantsDelivery': 'False', 'OutdoorSeati...</td>\n",
       "      <td>Restaurants, Food, Bubble Tea, Coffee &amp; Tea, B...</td>\n",
       "      <td>{'Monday': '7:0-20:0', 'Tuesday': '7:0-20:0', ...</td>\n",
       "    </tr>\n",
       "    <tr>\n",
       "      <th>4</th>\n",
       "      <td>4</td>\n",
       "      <td>mWMc6_wTdE0EUBKIGXDVfA</td>\n",
       "      <td>Perkiomen Valley Brewery</td>\n",
       "      <td>101 Walnut St</td>\n",
       "      <td>Green Lane</td>\n",
       "      <td>PA</td>\n",
       "      <td>18054</td>\n",
       "      <td>40.338183</td>\n",
       "      <td>-75.471659</td>\n",
       "      <td>4.5</td>\n",
       "      <td>13</td>\n",
       "      <td>1</td>\n",
       "      <td>{'BusinessAcceptsCreditCards': 'True', 'Wheelc...</td>\n",
       "      <td>Brewpubs, Breweries, Food</td>\n",
       "      <td>{'Wednesday': '14:0-22:0', 'Thursday': '16:0-2...</td>\n",
       "    </tr>\n",
       "  </tbody>\n",
       "</table>\n",
       "</div>"
      ],
      "text/plain": [
       "   Unnamed: 0             business_id                      name  \\\n",
       "0           0  Pns2l4eNsfO8kk83dixA6A  Abby Rappoport, LAC, CMQ   \n",
       "1           1  mpf3x-BjTdTEA3yCZrAYPw             The UPS Store   \n",
       "2           2  tUFrWirKiKi_TAnsVWINQQ                    Target   \n",
       "3           3  MTSW4McQd7CbVtyjqoe9mw        St Honore Pastries   \n",
       "4           4  mWMc6_wTdE0EUBKIGXDVfA  Perkiomen Valley Brewery   \n",
       "\n",
       "                           address           city state postal_code  \\\n",
       "0           1616 Chapala St, Ste 2  Santa Barbara    CA       93101   \n",
       "1  87 Grasso Plaza Shopping Center         Affton    MO       63123   \n",
       "2             5255 E Broadway Blvd         Tucson    AZ       85711   \n",
       "3                      935 Race St   Philadelphia    PA       19107   \n",
       "4                    101 Walnut St     Green Lane    PA       18054   \n",
       "\n",
       "    latitude   longitude  stars  review_count  is_open  \\\n",
       "0  34.426679 -119.711197    5.0             7        0   \n",
       "1  38.551126  -90.335695    3.0            15        1   \n",
       "2  32.223236 -110.880452    3.5            22        0   \n",
       "3  39.955505  -75.155564    4.0            80        1   \n",
       "4  40.338183  -75.471659    4.5            13        1   \n",
       "\n",
       "                                          attributes  \\\n",
       "0                      {'ByAppointmentOnly': 'True'}   \n",
       "1             {'BusinessAcceptsCreditCards': 'True'}   \n",
       "2  {'BikeParking': 'True', 'BusinessAcceptsCredit...   \n",
       "3  {'RestaurantsDelivery': 'False', 'OutdoorSeati...   \n",
       "4  {'BusinessAcceptsCreditCards': 'True', 'Wheelc...   \n",
       "\n",
       "                                          categories  \\\n",
       "0  Doctors, Traditional Chinese Medicine, Naturop...   \n",
       "1  Shipping Centers, Local Services, Notaries, Ma...   \n",
       "2  Department Stores, Shopping, Fashion, Home & G...   \n",
       "3  Restaurants, Food, Bubble Tea, Coffee & Tea, B...   \n",
       "4                          Brewpubs, Breweries, Food   \n",
       "\n",
       "                                               hours  \n",
       "0                                                NaN  \n",
       "1  {'Monday': '0:0-0:0', 'Tuesday': '8:0-18:30', ...  \n",
       "2  {'Monday': '8:0-22:0', 'Tuesday': '8:0-22:0', ...  \n",
       "3  {'Monday': '7:0-20:0', 'Tuesday': '7:0-20:0', ...  \n",
       "4  {'Wednesday': '14:0-22:0', 'Thursday': '16:0-2...  "
      ]
     },
     "execution_count": 4,
     "metadata": {},
     "output_type": "execute_result"
    }
   ],
   "source": [
    "business.head()"
   ]
  },
  {
   "cell_type": "code",
   "execution_count": 5,
   "id": "0d16d7e5",
   "metadata": {},
   "outputs": [],
   "source": [
    "def findRestaurant(df_business: pd.DataFrame):\n",
    "    restaurant_name = input(\"Please enter the restaurant name: \")\n",
    "    restaurant_zipcode = input(\"Please enter the restaurant zipcode: \")\n",
    "    df_filterbyzipcode = df_business[df_business[\"postal_code\"]==str(restaurant_zipcode)]\n",
    "    df_filterbyname = df_filterbyzipcode[df_filterbyzipcode[\"name\"].str.lower().str.contains(restaurant_name.lower())]\n",
    "    if len(df_filterbyname) ==0:\n",
    "        print(\"Restaurant not found\")\n",
    "        answer = input(\"Do you want to perform a new search?\")\n",
    "        if answer == \"Yes\" or answer ==\"Y\" or answer == \"y\":\n",
    "            findRestaurant(business)\n",
    "        else:\n",
    "            print(\"Goodbye\")\n",
    "    \n",
    "    \n",
    "    if len(df_filterbyname) == 1:\n",
    "        print(df_filterbyname[[\"name\", \"address\",\"postal_code\"]])\n",
    "        answer = input(\"Is this the restaurant you wanted to search? Input Yes or No.\")\n",
    "        if answer == \"Yes\" or answer ==\"Y\" or answer == \"y\":\n",
    "            return df_filterbyname[\"business_id\"]\n",
    "        else:\n",
    "            print(\"***************************************\",\"\\n\",\"Start a new search\")\n",
    "            findRestaurant(business)\n",
    "    \n",
    "    if len(df_filterbyname) > 1:\n",
    "        print(df_filterbyname[[\"name\", \"address\",\"postal_code\"]])\n",
    "        answer = input(\"Which address/location your restaurant is at?\")\n",
    "        if answer.lower() in df_filterbyname[\"address\"].str.lower():\n",
    "            df_filterbyaddress = df_filterbyname[df_filterbyname[\"address\"].str.lower()== answer.lower()]\n",
    "            return df_filterbyaddress[\"business_id\"]\n",
    "        else:\n",
    "            print(\"Address not found\")\n",
    "            answer = input(\"Do you want to perform a new search?\")\n",
    "            if answer == \"Yes\" or answer ==\"Y\" or answer == \"y\":\n",
    "                findRestaurant(business)\n",
    "            else:\n",
    "                print(\"Goodbye\")"
   ]
  },
  {
   "cell_type": "code",
   "execution_count": 6,
   "id": "80f54680",
   "metadata": {},
   "outputs": [
    {
     "name": "stdout",
     "output_type": "stream",
     "text": [
      "Please enter the restaurant name: abby\n",
      "Please enter the restaurant zipcode: 93101\n",
      "                       name                 address postal_code\n",
      "0  Abby Rappoport, LAC, CMQ  1616 Chapala St, Ste 2       93101\n",
      "Is this the restaurant you wanted to search? Input Yes or No.y\n"
     ]
    },
    {
     "data": {
      "text/plain": [
       "0    Pns2l4eNsfO8kk83dixA6A\n",
       "Name: business_id, dtype: object"
      ]
     },
     "execution_count": 6,
     "metadata": {},
     "output_type": "execute_result"
    }
   ],
   "source": [
    "findRestaurant(business)"
   ]
  },
  {
   "cell_type": "code",
   "execution_count": 29,
   "id": "7b8b9678",
   "metadata": {},
   "outputs": [
    {
     "name": "stdout",
     "output_type": "stream",
     "text": [
      "Please enter the restaurant name: Abby\n",
      "Please enter the restaurant zipcode: 93101\n",
      "                       name                 address postal_code\n",
      "0  Abby Rappoport, LAC, CMQ  1616 Chapala St, Ste 2       93101\n",
      "Is this the restaurant you wanted to search? Input Yes or No.N\n",
      "Please enter the restaurant name: UPS\n",
      "Please enter the restaurant zipcode: 63123\n",
      "            name                          address postal_code\n",
      "1  The UPS Store  87 Grasso Plaza Shopping Center       63123\n",
      "Is this the restaurant you wanted to search? Input Yes or No.Y\n"
     ]
    }
   ],
   "source": [
    "findRestaurant(business)"
   ]
  },
  {
   "cell_type": "code",
   "execution_count": 7,
   "id": "6f551c35",
   "metadata": {},
   "outputs": [
    {
     "data": {
      "text/html": [
       "<div>\n",
       "<style scoped>\n",
       "    .dataframe tbody tr th:only-of-type {\n",
       "        vertical-align: middle;\n",
       "    }\n",
       "\n",
       "    .dataframe tbody tr th {\n",
       "        vertical-align: top;\n",
       "    }\n",
       "\n",
       "    .dataframe thead th {\n",
       "        text-align: right;\n",
       "    }\n",
       "</style>\n",
       "<table border=\"1\" class=\"dataframe\">\n",
       "  <thead>\n",
       "    <tr style=\"text-align: right;\">\n",
       "      <th></th>\n",
       "      <th>Unnamed: 0</th>\n",
       "      <th>swiss</th>\n",
       "      <th>soy milk</th>\n",
       "      <th>taro cake</th>\n",
       "      <th>dal</th>\n",
       "      <th>ploye</th>\n",
       "      <th>english</th>\n",
       "      <th>curry</th>\n",
       "      <th>chocolate</th>\n",
       "      <th>rice</th>\n",
       "      <th>...</th>\n",
       "      <th>kartoffelsuppe</th>\n",
       "      <th>wurstsalat</th>\n",
       "      <th>yentafo</th>\n",
       "      <th>chinmi</th>\n",
       "      <th>truffade</th>\n",
       "      <th>snake wine</th>\n",
       "      <th>nabak kimchi</th>\n",
       "      <th>fondue savoyarde</th>\n",
       "      <th>bai po</th>\n",
       "      <th>charleston red rice</th>\n",
       "    </tr>\n",
       "  </thead>\n",
       "  <tbody>\n",
       "    <tr>\n",
       "      <th>0</th>\n",
       "      <td>MTSW4McQd7CbVtyjqoe9mw</td>\n",
       "      <td>4.714418</td>\n",
       "      <td>1.793701</td>\n",
       "      <td>-2.0</td>\n",
       "      <td>4.519842</td>\n",
       "      <td>-5.634241</td>\n",
       "      <td>1.764567</td>\n",
       "      <td>2.63507</td>\n",
       "      <td>2.228233</td>\n",
       "      <td>2.597241</td>\n",
       "      <td>...</td>\n",
       "      <td>NaN</td>\n",
       "      <td>NaN</td>\n",
       "      <td>NaN</td>\n",
       "      <td>NaN</td>\n",
       "      <td>NaN</td>\n",
       "      <td>NaN</td>\n",
       "      <td>NaN</td>\n",
       "      <td>NaN</td>\n",
       "      <td>NaN</td>\n",
       "      <td>NaN</td>\n",
       "    </tr>\n",
       "    <tr>\n",
       "      <th>1</th>\n",
       "      <td>0bPLkL0QhhPO5kt1_EXmNQ</td>\n",
       "      <td>4.000000</td>\n",
       "      <td>NaN</td>\n",
       "      <td>NaN</td>\n",
       "      <td>NaN</td>\n",
       "      <td>3.144714</td>\n",
       "      <td>4.000000</td>\n",
       "      <td>NaN</td>\n",
       "      <td>NaN</td>\n",
       "      <td>2.328493</td>\n",
       "      <td>...</td>\n",
       "      <td>NaN</td>\n",
       "      <td>NaN</td>\n",
       "      <td>NaN</td>\n",
       "      <td>NaN</td>\n",
       "      <td>NaN</td>\n",
       "      <td>NaN</td>\n",
       "      <td>NaN</td>\n",
       "      <td>NaN</td>\n",
       "      <td>NaN</td>\n",
       "      <td>NaN</td>\n",
       "    </tr>\n",
       "    <tr>\n",
       "      <th>2</th>\n",
       "      <td>IDtLPgUrqorrpqSLdfMhZQ</td>\n",
       "      <td>0.779630</td>\n",
       "      <td>-6.160168</td>\n",
       "      <td>NaN</td>\n",
       "      <td>-2.259921</td>\n",
       "      <td>-1.221003</td>\n",
       "      <td>2.144714</td>\n",
       "      <td>NaN</td>\n",
       "      <td>2.037383</td>\n",
       "      <td>1.090800</td>\n",
       "      <td>...</td>\n",
       "      <td>NaN</td>\n",
       "      <td>NaN</td>\n",
       "      <td>NaN</td>\n",
       "      <td>NaN</td>\n",
       "      <td>NaN</td>\n",
       "      <td>NaN</td>\n",
       "      <td>NaN</td>\n",
       "      <td>NaN</td>\n",
       "      <td>NaN</td>\n",
       "      <td>NaN</td>\n",
       "    </tr>\n",
       "    <tr>\n",
       "      <th>3</th>\n",
       "      <td>oaboaRBUgGjbo2kfUIKDLQ</td>\n",
       "      <td>0.000000</td>\n",
       "      <td>NaN</td>\n",
       "      <td>NaN</td>\n",
       "      <td>NaN</td>\n",
       "      <td>1.505846</td>\n",
       "      <td>NaN</td>\n",
       "      <td>NaN</td>\n",
       "      <td>2.112356</td>\n",
       "      <td>2.348699</td>\n",
       "      <td>...</td>\n",
       "      <td>NaN</td>\n",
       "      <td>NaN</td>\n",
       "      <td>NaN</td>\n",
       "      <td>NaN</td>\n",
       "      <td>NaN</td>\n",
       "      <td>NaN</td>\n",
       "      <td>NaN</td>\n",
       "      <td>NaN</td>\n",
       "      <td>NaN</td>\n",
       "      <td>NaN</td>\n",
       "    </tr>\n",
       "    <tr>\n",
       "      <th>4</th>\n",
       "      <td>TLZ3-eDPLhUzfsWO4ad6Ug</td>\n",
       "      <td>-2.154435</td>\n",
       "      <td>NaN</td>\n",
       "      <td>NaN</td>\n",
       "      <td>4.000000</td>\n",
       "      <td>NaN</td>\n",
       "      <td>NaN</td>\n",
       "      <td>NaN</td>\n",
       "      <td>1.896850</td>\n",
       "      <td>0.773009</td>\n",
       "      <td>...</td>\n",
       "      <td>NaN</td>\n",
       "      <td>NaN</td>\n",
       "      <td>NaN</td>\n",
       "      <td>NaN</td>\n",
       "      <td>NaN</td>\n",
       "      <td>NaN</td>\n",
       "      <td>NaN</td>\n",
       "      <td>NaN</td>\n",
       "      <td>NaN</td>\n",
       "      <td>NaN</td>\n",
       "    </tr>\n",
       "  </tbody>\n",
       "</table>\n",
       "<p>5 rows × 919 columns</p>\n",
       "</div>"
      ],
      "text/plain": [
       "               Unnamed: 0     swiss  soy milk  taro cake       dal     ploye  \\\n",
       "0  MTSW4McQd7CbVtyjqoe9mw  4.714418  1.793701       -2.0  4.519842 -5.634241   \n",
       "1  0bPLkL0QhhPO5kt1_EXmNQ  4.000000       NaN        NaN       NaN  3.144714   \n",
       "2  IDtLPgUrqorrpqSLdfMhZQ  0.779630 -6.160168        NaN -2.259921 -1.221003   \n",
       "3  oaboaRBUgGjbo2kfUIKDLQ  0.000000       NaN        NaN       NaN  1.505846   \n",
       "4  TLZ3-eDPLhUzfsWO4ad6Ug -2.154435       NaN        NaN  4.000000       NaN   \n",
       "\n",
       "    english    curry  chocolate      rice  ...  kartoffelsuppe  wurstsalat  \\\n",
       "0  1.764567  2.63507   2.228233  2.597241  ...             NaN         NaN   \n",
       "1  4.000000      NaN        NaN  2.328493  ...             NaN         NaN   \n",
       "2  2.144714      NaN   2.037383  1.090800  ...             NaN         NaN   \n",
       "3       NaN      NaN   2.112356  2.348699  ...             NaN         NaN   \n",
       "4       NaN      NaN   1.896850  0.773009  ...             NaN         NaN   \n",
       "\n",
       "   yentafo  chinmi  truffade  snake wine  nabak kimchi  fondue savoyarde  \\\n",
       "0      NaN     NaN       NaN         NaN           NaN               NaN   \n",
       "1      NaN     NaN       NaN         NaN           NaN               NaN   \n",
       "2      NaN     NaN       NaN         NaN           NaN               NaN   \n",
       "3      NaN     NaN       NaN         NaN           NaN               NaN   \n",
       "4      NaN     NaN       NaN         NaN           NaN               NaN   \n",
       "\n",
       "   bai po  charleston red rice  \n",
       "0     NaN                  NaN  \n",
       "1     NaN                  NaN  \n",
       "2     NaN                  NaN  \n",
       "3     NaN                  NaN  \n",
       "4     NaN                  NaN  \n",
       "\n",
       "[5 rows x 919 columns]"
      ]
     },
     "execution_count": 7,
     "metadata": {},
     "output_type": "execute_result"
    }
   ],
   "source": [
    "score_table.head()"
   ]
  },
  {
   "cell_type": "code",
   "execution_count": 8,
   "id": "4b105f1a",
   "metadata": {},
   "outputs": [],
   "source": [
    "df_filtered =score_table[score_table[\"Unnamed: 0\"]==\"MTSW4McQd7CbVtyjqoe9mw\"]"
   ]
  },
  {
   "cell_type": "code",
   "execution_count": 10,
   "id": "bc9025b5",
   "metadata": {},
   "outputs": [
    {
     "data": {
      "text/plain": [
       "0    4.714418\n",
       "Name: swiss, dtype: float64"
      ]
     },
     "execution_count": 10,
     "metadata": {},
     "output_type": "execute_result"
    }
   ],
   "source": [
    "df_filtered[\"swiss\"]"
   ]
  },
  {
   "cell_type": "code",
   "execution_count": 11,
   "id": "06c6258f",
   "metadata": {},
   "outputs": [],
   "source": [
    "score_table = score_table.fillna(-999)"
   ]
  },
  {
   "cell_type": "code",
   "execution_count": 53,
   "id": "df8eb147",
   "metadata": {},
   "outputs": [],
   "source": [
    "def rankDish(business_index: str, df_score_table: pd.DataFrame()):\n",
    "    df_filtered = df_score_table.loc[df_score_table[\"Unnamed: 0\"]==business_index,score_table.columns[1:]]\n",
    "    top_dish = df_filtered.idxmax(axis = 1).values[0]\n",
    "    top_score = df_filtered.max(axis = 1).values[0]\n",
    "    if top_score == -999:\n",
    "        print(\"No recommendation yet! follow your heart:)\")\n",
    "    else:\n",
    "        print(\"we recommend: \" + top_dish)\n",
    "        "
   ]
  },
  {
   "cell_type": "code",
   "execution_count": 28,
   "id": "48865286",
   "metadata": {},
   "outputs": [
    {
     "data": {
      "text/plain": [
       "Index(['swiss', 'soy milk', 'taro cake', 'dal', 'ploye', 'english', 'curry',\n",
       "       'chocolate', 'rice', 'baozi',\n",
       "       ...\n",
       "       'kartoffelsuppe', 'wurstsalat', 'yentafo', 'chinmi', 'truffade',\n",
       "       'snake wine', 'nabak kimchi', 'fondue savoyarde', 'bai po',\n",
       "       'charleston red rice'],\n",
       "      dtype='object', length=918)"
      ]
     },
     "execution_count": 28,
     "metadata": {},
     "output_type": "execute_result"
    }
   ],
   "source": [
    "score_table.columns[1:]"
   ]
  },
  {
   "cell_type": "code",
   "execution_count": 51,
   "id": "2e139da7",
   "metadata": {},
   "outputs": [
    {
     "data": {
      "text/plain": [
       "0    swiss\n",
       "dtype: object"
      ]
     },
     "execution_count": 51,
     "metadata": {},
     "output_type": "execute_result"
    }
   ],
   "source": [
    "temp = score_table.loc[score_table[\"Unnamed: 0\"]==\"MTSW4McQd7CbVtyjqoe9mw\",score_table.columns[1:]]\n",
    "temp.idxmax(axis = 1)"
   ]
  },
  {
   "cell_type": "code",
   "execution_count": 54,
   "id": "7fdde28e",
   "metadata": {},
   "outputs": [
    {
     "name": "stdout",
     "output_type": "stream",
     "text": [
      "we recommend: swiss\n"
     ]
    }
   ],
   "source": [
    "rankDish(\"MTSW4McQd7CbVtyjqoe9mw\", score_table)"
   ]
  },
  {
   "cell_type": "code",
   "execution_count": 55,
   "id": "21d87fc1",
   "metadata": {},
   "outputs": [
    {
     "name": "stdout",
     "output_type": "stream",
     "text": [
      "we recommend: bread\n"
     ]
    }
   ],
   "source": [
    "rankDish(\"il_Ro8jwPlHresjw9EGmBg\", score_table)"
   ]
  },
  {
   "cell_type": "code",
   "execution_count": 56,
   "id": "c0d9f2c7",
   "metadata": {},
   "outputs": [
    {
     "name": "stdout",
     "output_type": "stream",
     "text": [
      "we recommend: naan\n"
     ]
    }
   ],
   "source": [
    "rankDish(\"hn9Toz3s-Ei3uZPt7esExA\", score_table)"
   ]
  },
  {
   "cell_type": "code",
   "execution_count": null,
   "id": "040493f2",
   "metadata": {},
   "outputs": [],
   "source": []
  }
 ],
 "metadata": {
  "kernelspec": {
   "display_name": "Python 3 (ipykernel)",
   "language": "python",
   "name": "python3"
  },
  "language_info": {
   "codemirror_mode": {
    "name": "ipython",
    "version": 3
   },
   "file_extension": ".py",
   "mimetype": "text/x-python",
   "name": "python",
   "nbconvert_exporter": "python",
   "pygments_lexer": "ipython3",
   "version": "3.9.12"
  }
 },
 "nbformat": 4,
 "nbformat_minor": 5
}
